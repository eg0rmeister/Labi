{
 "cells": [
  {
   "cell_type": "markdown",
   "metadata": {},
   "source": [
    "# Imports"
   ]
  },
  {
   "cell_type": "code",
   "execution_count": 2380,
   "metadata": {},
   "outputs": [],
   "source": [
    "import matplotlib.pyplot as plt\n",
    "import numpy as np"
   ]
  },
  {
   "cell_type": "code",
   "execution_count": 2381,
   "metadata": {},
   "outputs": [],
   "source": [
    "material = \"dura\""
   ]
  },
  {
   "cell_type": "code",
   "execution_count": 2382,
   "metadata": {},
   "outputs": [],
   "source": [
    "def printMeaningful(value, sigma=0.0):\n",
    "    tennage = 0\n",
    "    if sigma == 0:\n",
    "        sigma = value\n",
    "    while sigma < 1:\n",
    "        tennage -= 1\n",
    "        sigma *= 10\n",
    "        value *= 10\n",
    "    while sigma > 10:\n",
    "        tennage += 1\n",
    "        sigma /= 10\n",
    "        value /= 10\n",
    "    print( \"({:.1f} \\pm {:.1f}) \\cdot 10^{}{}{}\".format(value, sigma, \"{\", tennage, \"}\"))"
   ]
  },
  {
   "cell_type": "code",
   "execution_count": 2383,
   "metadata": {},
   "outputs": [
    {
     "name": "stdout",
     "output_type": "stream",
     "text": [
      "(2.0 \\pm 2.0) \\cdot 10^{-1}\n"
     ]
    }
   ],
   "source": [
    "printMeaningful(0.2)"
   ]
  },
  {
   "cell_type": "markdown",
   "metadata": {},
   "source": [
    "# Inputs"
   ]
  },
  {
   "cell_type": "markdown",
   "metadata": {},
   "source": [
    "## frequency"
   ]
  },
  {
   "cell_type": "markdown",
   "metadata": {},
   "source": [
    "### Inputs"
   ]
  },
  {
   "cell_type": "code",
   "execution_count": 2384,
   "metadata": {},
   "outputs": [
    {
     "name": "stdout",
     "output_type": "stream",
     "text": [
      "instrum_f, ÐºÐ“Ñ†\n",
      "\n",
      "n\tfÐ¸Ð·Ð¼, ÐºÐ“Ñ†\n",
      "\n"
     ]
    }
   ],
   "source": [
    "N = []\n",
    "f = []\n",
    "\n",
    "with open(f\"frequencies/{material}\", \"r\") as file:\n",
    "    print(file.readline())\n",
    "    instrum_f = float(file.readline().strip())\n",
    "    print(file.readline())\n",
    "    for line in file:\n",
    "        temp = line.strip().split()\n",
    "        N.append(int(temp[0]))\n",
    "        f.append(float(temp[1]))\n",
    "    N = np.array(N)\n",
    "    f = np.array(f)"
   ]
  },
  {
   "cell_type": "code",
   "execution_count": 2385,
   "metadata": {},
   "outputs": [
    {
     "data": {
      "text/plain": [
       "array([1, 2, 3, 4, 5, 6, 7, 8])"
      ]
     },
     "execution_count": 2385,
     "metadata": {},
     "output_type": "execute_result"
    }
   ],
   "source": [
    "N"
   ]
  },
  {
   "cell_type": "code",
   "execution_count": 2386,
   "metadata": {},
   "outputs": [
    {
     "data": {
      "text/plain": [
       "array([ 4.2534,  8.5141, 12.7593, 17.0259, 21.2625, 25.5155, 29.7458,\n",
       "       33.976 ])"
      ]
     },
     "execution_count": 2386,
     "metadata": {},
     "output_type": "execute_result"
    }
   ],
   "source": [
    "f"
   ]
  },
  {
   "cell_type": "markdown",
   "metadata": {},
   "source": [
    "### Table"
   ]
  },
  {
   "cell_type": "code",
   "execution_count": 2387,
   "metadata": {},
   "outputs": [
    {
     "name": "stdout",
     "output_type": "stream",
     "text": [
      "\t\t\\hline\n",
      "\t\t1&4.2534\\\\\n",
      "\t\t\\hline\n",
      "\t\t2&8.5141\\\\\n",
      "\t\t\\hline\n",
      "\t\t3&12.7593\\\\\n",
      "\t\t\\hline\n",
      "\t\t4&17.0259\\\\\n",
      "\t\t\\hline\n",
      "\t\t5&21.2625\\\\\n",
      "\t\t\\hline\n",
      "\t\t6&25.5155\\\\\n",
      "\t\t\\hline\n",
      "\t\t7&29.7458\\\\\n",
      "\t\t\\hline\n",
      "\t\t8&33.976\\\\\n"
     ]
    }
   ],
   "source": [
    "for i in range(len(N)):\n",
    "    print(\"\\t\\t\\hline\\n\\t\\t\", end = \"\")\n",
    "    print(\"{}&{}\\\\\\\\\".format(N[i], f[i]))"
   ]
  },
  {
   "cell_type": "markdown",
   "metadata": {},
   "source": [
    "### Units"
   ]
  },
  {
   "cell_type": "code",
   "execution_count": 2388,
   "metadata": {},
   "outputs": [],
   "source": [
    "f *= 1000 # kHz -> Hz\n",
    "instrum_f *= 1000 # kHz -> Hz"
   ]
  },
  {
   "cell_type": "code",
   "execution_count": 2389,
   "metadata": {},
   "outputs": [
    {
     "data": {
      "text/plain": [
       "(array([ 4253.4,  8514.1, 12759.3, 17025.9, 21262.5, 25515.5, 29745.8,\n",
       "        33976. ]),\n",
       " 0.1)"
      ]
     },
     "execution_count": 2389,
     "metadata": {},
     "output_type": "execute_result"
    }
   ],
   "source": [
    "f, instrum_f"
   ]
  },
  {
   "cell_type": "markdown",
   "metadata": {},
   "source": [
    "## Sample"
   ]
  },
  {
   "cell_type": "markdown",
   "metadata": {},
   "source": [
    "### Input"
   ]
  },
  {
   "cell_type": "code",
   "execution_count": 2390,
   "metadata": {},
   "outputs": [
    {
     "name": "stdout",
     "output_type": "stream",
     "text": [
      "L sigma_L\n",
      "\n",
      "m sigma_m\n",
      "\n",
      "sigma_d\n",
      "\n",
      "d\n",
      "\n"
     ]
    }
   ],
   "source": [
    "sample_d = []\n",
    "with open(f\"samples/{material}\", \"r\") as file:\n",
    "    print(file.readline())\n",
    "    sample_L, sigma_samle_L = (float(i) for i in file.readline().strip().split())\n",
    "    print(file.readline())\n",
    "    m, sigma_m = (float(i) for i in file.readline().strip().split())\n",
    "    print(file.readline())\n",
    "    instrum_sample_d = (float(file.readline().strip()))\n",
    "    print(file.readline())\n",
    "    for line in file:\n",
    "        sample_d.append(float(line.strip()))\n",
    "    sample_d = np.array(sample_d)"
   ]
  },
  {
   "cell_type": "code",
   "execution_count": 2391,
   "metadata": {},
   "outputs": [
    {
     "data": {
      "text/plain": [
       "array([12.03, 12.02, 12.11, 12.24, 12.26])"
      ]
     },
     "execution_count": 2391,
     "metadata": {},
     "output_type": "execute_result"
    }
   ],
   "source": [
    "sample_d"
   ]
  },
  {
   "cell_type": "code",
   "execution_count": 2392,
   "metadata": {},
   "outputs": [],
   "source": [
    "sigma_sample_d = (1/(sample_d.size * (sample_d.size-1)) * np.sum((sample_d - np.mean(sample_d))**2))**0.5"
   ]
  },
  {
   "cell_type": "code",
   "execution_count": 2393,
   "metadata": {},
   "outputs": [
    {
     "name": "stdout",
     "output_type": "stream",
     "text": [
      "(1213.2 \\pm 5.1) \\cdot 10^{-2}\n"
     ]
    }
   ],
   "source": [
    "printMeaningful(np.mean(sample_d), sigma_sample_d)"
   ]
  },
  {
   "cell_type": "code",
   "execution_count": 2394,
   "metadata": {},
   "outputs": [],
   "source": [
    "sigma_sample_d = (instrum_sample_d**2 + sigma_sample_d**2)**0.5"
   ]
  },
  {
   "cell_type": "code",
   "execution_count": 2395,
   "metadata": {},
   "outputs": [
    {
     "name": "stdout",
     "output_type": "stream",
     "text": [
      "(1213.2 \\pm 5.2) \\cdot 10^{-2}\n"
     ]
    }
   ],
   "source": [
    "printMeaningful(np.mean(sample_d), sigma_sample_d)"
   ]
  },
  {
   "cell_type": "markdown",
   "metadata": {},
   "source": [
    "### Table"
   ]
  },
  {
   "cell_type": "markdown",
   "metadata": {},
   "source": [
    "### Units"
   ]
  },
  {
   "cell_type": "code",
   "execution_count": 2396,
   "metadata": {},
   "outputs": [],
   "source": [
    "sample_d /= 1000 # mm -> m \n",
    "sigma_sample_d /= 1000 # mm -> m \n",
    "instrum_sample_d /= 1000 # mm -> m \n",
    "sample_L /= 1000 # mm -> m \n",
    "sigma_samle_L /= 1000 # mm -> m\n",
    "m /= 1000 # g -> kg\n",
    "sigma_m /= 1000 # g -> kg\n"
   ]
  },
  {
   "cell_type": "code",
   "execution_count": 2397,
   "metadata": {},
   "outputs": [
    {
     "name": "stdout",
     "output_type": "stream",
     "text": [
      "(13228.0 \\pm 1.0) \\cdot 10^{-6}\n"
     ]
    }
   ],
   "source": [
    "printMeaningful(m, sigma_m)"
   ]
  },
  {
   "cell_type": "markdown",
   "metadata": {},
   "source": [
    "## Bar"
   ]
  },
  {
   "cell_type": "markdown",
   "metadata": {},
   "source": [
    "### Input"
   ]
  },
  {
   "cell_type": "code",
   "execution_count": 2398,
   "metadata": {},
   "outputs": [
    {
     "name": "stdout",
     "output_type": "stream",
     "text": [
      "L sigma_L\n",
      "\n",
      "sigma_d\n",
      "\n",
      "d\n",
      "\n"
     ]
    }
   ],
   "source": [
    "d = []\n",
    "with open(f\"bar_sizes/{material}\", \"r\") as file:\n",
    "    print(file.readline())\n",
    "    L, sigma_L = (float(i) for i in file.readline().strip().split())\n",
    "    print(file.readline())\n",
    "    instrum_d = (float(file.readline().strip()))\n",
    "    print(file.readline())\n",
    "    for line in file:\n",
    "        d.append(float(line.strip()))\n",
    "    d = np.array(d)"
   ]
  },
  {
   "cell_type": "code",
   "execution_count": 2399,
   "metadata": {},
   "outputs": [
    {
     "data": {
      "text/plain": [
       "array([11.87, 11.74, 11.73, 11.75, 11.74])"
      ]
     },
     "execution_count": 2399,
     "metadata": {},
     "output_type": "execute_result"
    }
   ],
   "source": [
    "d"
   ]
  },
  {
   "cell_type": "markdown",
   "metadata": {},
   "source": [
    "### Table"
   ]
  },
  {
   "cell_type": "code",
   "execution_count": 2400,
   "metadata": {},
   "outputs": [
    {
     "name": "stdout",
     "output_type": "stream",
     "text": [
      "\t\t\\hline\n",
      "\t\t11.87&\n",
      "\t\t\\hline\n",
      "\t\t11.74&\n",
      "\t\t\\hline\n",
      "\t\t11.73&\n",
      "\t\t\\hline\n",
      "\t\t11.75&\n",
      "\t\t\\hline\n",
      "\t\t11.74&\n"
     ]
    }
   ],
   "source": [
    "for i in d:\n",
    "  print(\"\\t\\t\\hline\\n\\t\\t\", end=\"\")\n",
    "  print(f\"{i}&\")"
   ]
  },
  {
   "cell_type": "code",
   "execution_count": 2401,
   "metadata": {},
   "outputs": [],
   "source": [
    "sigma_d = (1/(d.size * (d.size-1)) * np.sum((d - np.mean(d))**2))**0.5"
   ]
  },
  {
   "cell_type": "code",
   "execution_count": 2402,
   "metadata": {},
   "outputs": [
    {
     "name": "stdout",
     "output_type": "stream",
     "text": [
      "(1176.6 \\pm 2.6) \\cdot 10^{-2}\n"
     ]
    }
   ],
   "source": [
    "printMeaningful(np.mean(d), sigma_d)"
   ]
  },
  {
   "cell_type": "code",
   "execution_count": 2403,
   "metadata": {},
   "outputs": [],
   "source": [
    "sigma_d = (instrum_d**2 + sigma_d**2)**0.5"
   ]
  },
  {
   "cell_type": "code",
   "execution_count": 2404,
   "metadata": {},
   "outputs": [
    {
     "name": "stdout",
     "output_type": "stream",
     "text": [
      "(1176.6 \\pm 2.8) \\cdot 10^{-2}\n"
     ]
    }
   ],
   "source": [
    "printMeaningful(np.mean(d), sigma_d)"
   ]
  },
  {
   "attachments": {},
   "cell_type": "markdown",
   "metadata": {},
   "source": [
    "### Units"
   ]
  },
  {
   "cell_type": "code",
   "execution_count": 2405,
   "metadata": {},
   "outputs": [],
   "source": [
    "L /= 1000\n",
    "sigma_L /= 1000\n",
    "d /= 1000\n",
    "instrum_d /= 1000"
   ]
  },
  {
   "cell_type": "markdown",
   "metadata": {},
   "source": [
    "# Speed of sound"
   ]
  },
  {
   "cell_type": "markdown",
   "metadata": {},
   "source": [
    "Permutations"
   ]
  },
  {
   "cell_type": "code",
   "execution_count": null,
   "metadata": {},
   "outputs": [],
   "source": []
  },
  {
   "attachments": {},
   "cell_type": "markdown",
   "metadata": {},
   "source": [
    "$y = f\\\\$\n",
    "$x = n\\\\$\n",
    "$y = kx + b\\\\$"
   ]
  },
  {
   "cell_type": "code",
   "execution_count": 2406,
   "metadata": {},
   "outputs": [],
   "source": [
    "y = f\n",
    "x = N\n",
    "\n",
    "mean_xy = np.mean(x * y)\n",
    "mean_x = np.mean(x)\n",
    "mean_x2 = np.mean(x**2)\n",
    "mean_y = np.mean(y)\n",
    "mean_y2 = np.mean(y**2)"
   ]
  },
  {
   "cell_type": "code",
   "execution_count": 2407,
   "metadata": {},
   "outputs": [
    {
     "data": {
      "text/plain": [
       "4246.689285714285"
      ]
     },
     "execution_count": 2407,
     "metadata": {},
     "output_type": "execute_result"
    }
   ],
   "source": [
    "k = (mean_xy - mean_x*mean_y)/(mean_x2 - mean_x**2)\n",
    "k"
   ]
  },
  {
   "cell_type": "code",
   "execution_count": 2408,
   "metadata": {},
   "outputs": [],
   "source": [
    "random_k = (1/N.size)**0.5 * ((mean_y2-mean_y**2)/(mean_x2-mean_x**2)-k**2)**0.5\n"
   ]
  },
  {
   "cell_type": "code",
   "execution_count": 2409,
   "metadata": {},
   "outputs": [
    {
     "name": "stdout",
     "output_type": "stream",
     "text": [
      "(4246.7 \\pm 1.9) \\cdot 10^{0}\n"
     ]
    }
   ],
   "source": [
    "printMeaningful(k, random_k)"
   ]
  },
  {
   "cell_type": "code",
   "execution_count": 2410,
   "metadata": {},
   "outputs": [
    {
     "data": {
      "text/plain": [
       "21.460714285720314"
      ]
     },
     "execution_count": 2410,
     "metadata": {},
     "output_type": "execute_result"
    }
   ],
   "source": [
    "b = mean_y - k * mean_x\n",
    "b"
   ]
  },
  {
   "cell_type": "code",
   "execution_count": 2411,
   "metadata": {},
   "outputs": [],
   "source": [
    "random_b = random_k * (mean_x2-mean_x**2)**0.5"
   ]
  },
  {
   "cell_type": "code",
   "execution_count": 2412,
   "metadata": {},
   "outputs": [
    {
     "name": "stdout",
     "output_type": "stream",
     "text": [
      "(21.5 \\pm 4.2) \\cdot 10^{0}\n"
     ]
    }
   ],
   "source": [
    "printMeaningful(b, random_b)"
   ]
  },
  {
   "cell_type": "markdown",
   "metadata": {},
   "source": [
    "$k = \\frac{2\\pi N}{tm}$"
   ]
  },
  {
   "cell_type": "markdown",
   "metadata": {},
   "source": [
    "graphics"
   ]
  },
  {
   "cell_type": "code",
   "execution_count": 2413,
   "metadata": {},
   "outputs": [],
   "source": [
    "# xykb = {\"copper\": None, \"steel\": None, \"dura\": None}"
   ]
  },
  {
   "cell_type": "code",
   "execution_count": 2414,
   "metadata": {},
   "outputs": [],
   "source": [
    "if material in xykb:\n",
    "  xykb[material] = (x, y, k, b, random_k, random_b)"
   ]
  },
  {
   "cell_type": "code",
   "execution_count": 2415,
   "metadata": {},
   "outputs": [
    {
     "data": {
      "text/plain": [
       "{'copper': (array([1, 2, 3, 4, 5, 6]),\n",
       "  array([ 3158.8,  6314.6,  9485.3, 12649.7, 15804.4, 18971.1]),\n",
       "  3162.722857142859,\n",
       "  -5.546666666674355,\n",
       "  0.8188504738589546,\n",
       "  1.3984534150525658),\n",
       " 'steel': (array([1, 2, 3, 4, 5, 6, 7, 8, 9]),\n",
       "  array([ 4124.3,  8255.7, 12379.5, 16507.7, 20628. , 24750.7, 28851.7,\n",
       "         32963. , 37055.3]),\n",
       "  4117.221666666671,\n",
       "  26.769444444416877,\n",
       "  1.8950751907853545,\n",
       "  4.8930631024816815),\n",
       " 'dura': (array([1, 2, 3, 4, 5, 6, 7, 8]),\n",
       "  array([ 4253.4,  8514.1, 12759.3, 17025.9, 21262.5, 25515.5, 29745.8,\n",
       "         33976. ]),\n",
       "  4246.689285714285,\n",
       "  21.460714285720314,\n",
       "  1.8523825785222734,\n",
       "  4.244341691047898)}"
      ]
     },
     "execution_count": 2415,
     "metadata": {},
     "output_type": "execute_result"
    }
   ],
   "source": [
    "xykb"
   ]
  },
  {
   "cell_type": "code",
   "execution_count": 2416,
   "metadata": {},
   "outputs": [
    {
     "data": {
      "image/png": "[encoded data removed]",
      "text/plain": [
       "<Figure size 640x480 with 1 Axes>"
      ]
     },
     "metadata": {},
     "output_type": "display_data"
    }
   ],
   "source": [
    "plt.plot((0, 9), (0, k*9 + b), \"b\")\n",
    "plt.plot(x, y, \"bo\")\n",
    "plt.legend([\"Аппроксимация\", \"Данные\"])\n",
    "plt.xlabel(\"Номер гармоники $%s$\"%(\"n\"))\n",
    "plt.ylabel(\"Частота колебаний $%s$, $%s$\"%(\"f\", \"Гц\"))\n",
    "plt.grid()"
   ]
  },
  {
   "cell_type": "code",
   "execution_count": 2417,
   "metadata": {},
   "outputs": [],
   "source": [
    "# x, y, k, b, sigma_k, sigma_b = xykb[\"dura\"]\n",
    "# plt.plot((0, 9), (0, k*9 + b), \"b\")\n",
    "# plt.plot(x, y, \"bo\")\n",
    "# x, y, k, b, sigma_k, sigma_b = xykb[\"copper\"]\n",
    "# plt.plot((0, 9), (0, k*9 + b), \"r\")\n",
    "# plt.plot(x, y, \"ro\")\n",
    "# x, y, k, b, sigma_k, sigma_b = xykb[\"steel\"]\n",
    "# plt.plot((0, 9), (0, k*9 + b), \"g\")\n",
    "# plt.plot(x, y, \"go\")\n",
    "# plt.legend([\"Дюраль\", \"_\", \"Медь\", \"_\", \"Сталь\"])\n",
    "# plt.xlabel(\"Номер гармоники $%s$\" % (\"n\"))\n",
    "# plt.ylabel(\"Частота колебаний $%s$, $%s$\" % (\"f\", \"Гц\"))\n",
    "# plt.grid()\n"
   ]
  },
  {
   "cell_type": "code",
   "execution_count": 2418,
   "metadata": {},
   "outputs": [],
   "source": [
    "# for i in xykb:\n",
    "#     x, y, k, b, sigma_k, sigma_b = xykb[i]\n",
    "#     print(\"\\t\\t\\hline\\n\\t\\t\", end = \"\")\n",
    "#     print(f\"{i}&${k:.5} \\pm {sigma_k:.2}$&${b:.3} \\pm {sigma_b:.2}$\\\\\\\\\")"
   ]
  },
  {
   "cell_type": "code",
   "execution_count": 2419,
   "metadata": {},
   "outputs": [
    {
     "data": {
      "text/plain": [
       "5138.494035714284"
      ]
     },
     "execution_count": 2419,
     "metadata": {},
     "output_type": "execute_result"
    }
   ],
   "source": [
    "u = 2 * L * k\n",
    "u"
   ]
  },
  {
   "cell_type": "code",
   "execution_count": 2420,
   "metadata": {},
   "outputs": [],
   "source": [
    "sigma_u = u * ((sigma_L/L)**2 + (sigma_k/k)**2)**0.5"
   ]
  },
  {
   "cell_type": "code",
   "execution_count": 2421,
   "metadata": {},
   "outputs": [
    {
     "name": "stdout",
     "output_type": "stream",
     "text": [
      "(5138.5 \\pm 4.8) \\cdot 10^{0}\n"
     ]
    }
   ],
   "source": [
    "printMeaningful(u, sigma_u)"
   ]
  },
  {
   "attachments": {},
   "cell_type": "markdown",
   "metadata": {},
   "source": [
    "# Density"
   ]
  },
  {
   "cell_type": "code",
   "execution_count": 2422,
   "metadata": {},
   "outputs": [],
   "source": [
    "ro = (4 * m)/(np.pi * np.mean(sample_d)**2 * sample_L)"
   ]
  },
  {
   "cell_type": "code",
   "execution_count": 2423,
   "metadata": {},
   "outputs": [],
   "source": [
    "sigma_ro = ro * ((sigma_m/m)**2 + 4 * (sigma_sample_d/np.mean(sample_d))**2 + (sigma_samle_L/sample_L)**2)**0.5"
   ]
  },
  {
   "cell_type": "code",
   "execution_count": 2424,
   "metadata": {},
   "outputs": [
    {
     "name": "stdout",
     "output_type": "stream",
     "text": [
      "(283.9 \\pm 2.5) \\cdot 10^{1}\n"
     ]
    }
   ],
   "source": [
    "printMeaningful(ro, sigma_ro)"
   ]
  },
  {
   "attachments": {},
   "cell_type": "markdown",
   "metadata": {},
   "source": [
    "# Ung"
   ]
  },
  {
   "cell_type": "code",
   "execution_count": 2425,
   "metadata": {},
   "outputs": [],
   "source": [
    "E = ro * u**2"
   ]
  },
  {
   "cell_type": "code",
   "execution_count": 2426,
   "metadata": {},
   "outputs": [],
   "source": [
    "sigma_E = E * ((sigma_ro/ro)**2 + 4 * (sigma_u/u)**2)**0.5"
   ]
  },
  {
   "cell_type": "code",
   "execution_count": 2427,
   "metadata": {},
   "outputs": [
    {
     "name": "stdout",
     "output_type": "stream",
     "text": [
      "(749.7 \\pm 6.8) \\cdot 10^{8}\n"
     ]
    }
   ],
   "source": [
    "printMeaningful(E, sigma_E)"
   ]
  },
  {
   "cell_type": "code",
   "execution_count": 2428,
   "metadata": {},
   "outputs": [
    {
     "data": {
      "text/plain": [
       "0.9075342987251221"
      ]
     },
     "execution_count": 2428,
     "metadata": {},
     "output_type": "execute_result"
    }
   ],
   "source": [
    "sigma_E/E * 100"
   ]
  }
 ],
 "metadata": {
  "kernelspec": {
   "display_name": "Python 3",
   "language": "python",
   "name": "python3"
  },
  "language_info": {
   "codemirror_mode": {
    "name": "ipython",
    "version": 3
   },
   "file_extension": ".py",
   "mimetype": "text/x-python",
   "name": "python",
   "nbconvert_exporter": "python",
   "pygments_lexer": "ipython3",
   "version": "3.10.9"
  },
  "orig_nbformat": 4,
  "vscode": {
   "interpreter": {
    "hash": "baa41aba8042dc41a7a72a7c371257b8a41a295d25020d6603a1b406950de565"
   }
  }
 },
 "nbformat": 4,
 "nbformat_minor": 2
}
