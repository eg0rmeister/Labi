{
 "cells": [
  {
   "cell_type": "markdown",
   "metadata": {},
   "source": [
    "# Imports"
   ]
  },
  {
   "cell_type": "code",
   "execution_count": 2,
   "metadata": {},
   "outputs": [],
   "source": [
    "import matplotlib.pyplot as plt\n",
    "import numpy as np"
   ]
  },
  {
   "cell_type": "code",
   "execution_count": 3,
   "metadata": {},
   "outputs": [],
   "source": [
    "material = \"copper\""
   ]
  },
  {
   "cell_type": "code",
   "execution_count": 4,
   "metadata": {},
   "outputs": [],
   "source": [
    "def printMeaningful(value, sigma=0.0):\n",
    "    tennage = 0\n",
    "    if sigma == 0:\n",
    "        sigma = value\n",
    "    while sigma < 1:\n",
    "        tennage -= 1\n",
    "        sigma *= 10\n",
    "        value *= 10\n",
    "    while sigma > 10:\n",
    "        tennage += 1\n",
    "        sigma /= 10\n",
    "        value /= 10\n",
    "    return \"({:.1f} \\\\pm {:.1f}) \\\\cdot 10^{}{}{}\".format(value, sigma, \"{\", tennage, \"}\")"
   ]
  },
  {
   "cell_type": "code",
   "execution_count": 5,
   "metadata": {},
   "outputs": [
    {
     "data": {
      "text/plain": [
       "'(2.0 \\\\pm 2.0) \\\\cdot 10^{-1}'"
      ]
     },
     "execution_count": 5,
     "metadata": {},
     "output_type": "execute_result"
    }
   ],
   "source": [
    "printMeaningful(0.2)"
   ]
  },
  {
   "cell_type": "markdown",
   "metadata": {},
   "source": [
    "# Inputs"
   ]
  },
  {
   "cell_type": "markdown",
   "metadata": {},
   "source": [
    "## frequency"
   ]
  },
  {
   "cell_type": "markdown",
   "metadata": {},
   "source": [
    "### Inputs"
   ]
  },
  {
   "cell_type": "code",
   "execution_count": 6,
   "metadata": {},
   "outputs": [
    {
     "name": "stdout",
     "output_type": "stream",
     "text": [
      "instrum_f, РєР“С†\n",
      "\n",
      "n\tfРёР·Рј, РєР“С†\n",
      "\n"
     ]
    }
   ],
   "source": [
    "N = []\n",
    "f = []\n",
    "\n",
    "with open(f\"frequencies/{material}\", \"r\") as file:\n",
    "    print(file.readline())\n",
    "    instrum_f = float(file.readline().strip())\n",
    "    print(file.readline())\n",
    "    for line in file:\n",
    "        temp = line.strip().split()\n",
    "        N.append(int(temp[0]))\n",
    "        f.append(float(temp[1]))\n",
    "    N = np.array(N)\n",
    "    f = np.array(f)"
   ]
  },
  {
   "cell_type": "code",
   "execution_count": 7,
   "metadata": {},
   "outputs": [
    {
     "data": {
      "text/plain": [
       "array([1, 2, 3, 4, 5, 6])"
      ]
     },
     "execution_count": 7,
     "metadata": {},
     "output_type": "execute_result"
    }
   ],
   "source": [
    "N"
   ]
  },
  {
   "cell_type": "code",
   "execution_count": 8,
   "metadata": {},
   "outputs": [
    {
     "data": {
      "text/plain": [
       "array([ 3.1588,  6.3146,  9.4853, 12.6497, 15.8044, 18.9711])"
      ]
     },
     "execution_count": 8,
     "metadata": {},
     "output_type": "execute_result"
    }
   ],
   "source": [
    "f"
   ]
  },
  {
   "cell_type": "markdown",
   "metadata": {},
   "source": [
    "### Table"
   ]
  },
  {
   "cell_type": "code",
   "execution_count": 9,
   "metadata": {},
   "outputs": [
    {
     "name": "stdout",
     "output_type": "stream",
     "text": [
      "\t\t\\hline\n",
      "\t\t1&3.1588\\\\\n",
      "\t\t\\hline\n",
      "\t\t2&6.3146\\\\\n",
      "\t\t\\hline\n",
      "\t\t3&9.4853\\\\\n",
      "\t\t\\hline\n",
      "\t\t4&12.6497\\\\\n",
      "\t\t\\hline\n",
      "\t\t5&15.8044\\\\\n",
      "\t\t\\hline\n",
      "\t\t6&18.9711\\\\\n"
     ]
    }
   ],
   "source": [
    "for i in range(len(N)):\n",
    "    print(\"\\t\\t\\hline\\n\\t\\t\", end = \"\")\n",
    "    print(\"{}&{}\\\\\\\\\".format(N[i], f[i]))"
   ]
  },
  {
   "cell_type": "markdown",
   "metadata": {},
   "source": [
    "### Units"
   ]
  },
  {
   "cell_type": "code",
   "execution_count": 10,
   "metadata": {},
   "outputs": [],
   "source": [
    "f *= 1000 # kHz -> Hz\n",
    "instrum_f *= 1000 # kHz -> Hz"
   ]
  },
  {
   "cell_type": "code",
   "execution_count": 11,
   "metadata": {},
   "outputs": [
    {
     "data": {
      "text/plain": [
       "(array([ 3158.8,  6314.6,  9485.3, 12649.7, 15804.4, 18971.1]), 0.1)"
      ]
     },
     "execution_count": 11,
     "metadata": {},
     "output_type": "execute_result"
    }
   ],
   "source": [
    "f, instrum_f"
   ]
  },
  {
   "cell_type": "markdown",
   "metadata": {},
   "source": [
    "## Sample"
   ]
  },
  {
   "cell_type": "markdown",
   "metadata": {},
   "source": [
    "### Input"
   ]
  },
  {
   "cell_type": "code",
   "execution_count": 12,
   "metadata": {},
   "outputs": [
    {
     "name": "stdout",
     "output_type": "stream",
     "text": [
      "L sigma_L\n",
      "\n",
      "m sigma_m\n",
      "\n",
      "sigma_d\n",
      "\n",
      "d\n",
      "\n"
     ]
    }
   ],
   "source": [
    "d = []\n",
    "with open(f\"samples/{material}\", \"r\") as file:\n",
    "    print(file.readline())\n",
    "    L, sigma_L = (float(i) for i in file.readline().strip().split())\n",
    "    print(file.readline())\n",
    "    m, sigma_m = (float(i) for i in file.readline().strip().split())\n",
    "    print(file.readline())\n",
    "    instrum_d = (float(file.readline().strip()))\n",
    "    print(file.readline())\n",
    "    for line in file:\n",
    "        d.append(float(line.strip()))\n",
    "    d = np.array(d)"
   ]
  },
  {
   "cell_type": "code",
   "execution_count": 13,
   "metadata": {},
   "outputs": [
    {
     "data": {
      "text/plain": [
       "array([12.11, 12.1 , 12.11, 12.11, 12.11])"
      ]
     },
     "execution_count": 13,
     "metadata": {},
     "output_type": "execute_result"
    }
   ],
   "source": [
    "d"
   ]
  },
  {
   "cell_type": "markdown",
   "metadata": {},
   "source": [
    "### Table"
   ]
  },
  {
   "cell_type": "markdown",
   "metadata": {},
   "source": [
    "### Units"
   ]
  },
  {
   "cell_type": "code",
   "execution_count": 14,
   "metadata": {},
   "outputs": [],
   "source": [
    "d /= 1000 # mm -> m \n",
    "instrum_d /= 1000 # mm -> m \n",
    "L /= 1000 # mm -> m \n",
    "sigma_L /= 1000 # mm -> m\n",
    "m /= 1000 # g -> kg\n",
    "sigma_m /= 1000 # g -> kg\n"
   ]
  },
  {
   "cell_type": "code",
   "execution_count": 19,
   "metadata": {},
   "outputs": [
    {
     "data": {
      "text/plain": [
       "'(410.0 \\\\pm 1.0) \\\\cdot 10^{-4}'"
      ]
     },
     "execution_count": 19,
     "metadata": {},
     "output_type": "execute_result"
    }
   ],
   "source": [
    "printMeaningful(m, sigma_m)"
   ]
  },
  {
   "cell_type": "markdown",
   "metadata": {},
   "source": [
    "## Bar"
   ]
  },
  {
   "cell_type": "markdown",
   "metadata": {},
   "source": [
    "### Input"
   ]
  },
  {
   "cell_type": "markdown",
   "metadata": {},
   "source": [
    "### Table"
   ]
  },
  {
   "cell_type": "markdown",
   "metadata": {},
   "source": [
    "### Units"
   ]
  },
  {
   "cell_type": "markdown",
   "metadata": {},
   "source": [
    "# Speed of sound"
   ]
  },
  {
   "cell_type": "markdown",
   "metadata": {},
   "source": [
    "Permutations"
   ]
  },
  {
   "cell_type": "code",
   "execution_count": null,
   "metadata": {},
   "outputs": [],
   "source": []
  },
  {
   "cell_type": "markdown",
   "metadata": {},
   "source": [
    "$y = \\Omega\\\\$\n",
    "$x = M\\\\$\n",
    "$y = kx\\\\$"
   ]
  },
  {
   "cell_type": "code",
   "execution_count": null,
   "metadata": {},
   "outputs": [],
   "source": [
    "y = mean_omegas\n",
    "x = M\n",
    "\n",
    "mean_xy = np.mean(x * y)\n",
    "mean_x = np.mean(x)\n",
    "mean_x2 = np.mean(x**2)\n",
    "mean_y = np.mean(y)\n",
    "mean_y2 = np.mean(y**2)"
   ]
  },
  {
   "cell_type": "code",
   "execution_count": null,
   "metadata": {},
   "outputs": [
    {
     "data": {
      "text/plain": [
       "5.1852701269186305e-08"
      ]
     },
     "execution_count": 17,
     "metadata": {},
     "output_type": "execute_result"
    }
   ],
   "source": [
    "k = (mean_xy)/(mean_x2)\n",
    "k"
   ]
  },
  {
   "cell_type": "markdown",
   "metadata": {},
   "source": [
    "$k = \\frac{2\\pi N}{tm}$"
   ]
  },
  {
   "cell_type": "code",
   "execution_count": null,
   "metadata": {},
   "outputs": [
    {
     "data": {
      "text/plain": [
       "4.3327671673154723e-10"
      ]
     },
     "execution_count": 18,
     "metadata": {},
     "output_type": "execute_result"
    }
   ],
   "source": [
    "instrum_k = k * ((instrum_time/np.mean(mean_times))**2 + (instrum_M/np.mean(M))**2)**0.5\n",
    "instrum_k"
   ]
  },
  {
   "cell_type": "code",
   "execution_count": null,
   "metadata": {},
   "outputs": [
    {
     "data": {
      "text/plain": [
       "0.0006093020106966354"
      ]
     },
     "execution_count": 19,
     "metadata": {},
     "output_type": "execute_result"
    }
   ],
   "source": [
    "instrum_mass/np.mean(mean_masses)"
   ]
  },
  {
   "cell_type": "code",
   "execution_count": null,
   "metadata": {},
   "outputs": [
    {
     "data": {
      "text/plain": [
       "7.487832272557094e-05"
      ]
     },
     "execution_count": 20,
     "metadata": {},
     "output_type": "execute_result"
    }
   ],
   "source": [
    "instrum_time/np.mean(mean_times)"
   ]
  },
  {
   "cell_type": "code",
   "execution_count": null,
   "metadata": {},
   "outputs": [
    {
     "data": {
      "text/plain": [
       "0.008355914082127556"
      ]
     },
     "execution_count": 21,
     "metadata": {},
     "output_type": "execute_result"
    }
   ],
   "source": [
    "instrum_k / k"
   ]
  },
  {
   "cell_type": "code",
   "execution_count": null,
   "metadata": {},
   "outputs": [
    {
     "data": {
      "text/plain": [
       "4.3648055404733536e-11"
      ]
     },
     "execution_count": 22,
     "metadata": {},
     "output_type": "execute_result"
    }
   ],
   "source": [
    "random_k = (1/len(x)**0.5) * (mean_y2/mean_x2 - k**2)**0.5\n",
    "random_k"
   ]
  },
  {
   "cell_type": "code",
   "execution_count": null,
   "metadata": {},
   "outputs": [
    {
     "data": {
      "text/plain": [
       "4.354697073302391e-10"
      ]
     },
     "execution_count": 23,
     "metadata": {},
     "output_type": "execute_result"
    }
   ],
   "source": [
    "sigma_k = (instrum_k**2 + random_k**2)**0.5\n",
    "sigma_k"
   ]
  },
  {
   "cell_type": "code",
   "execution_count": null,
   "metadata": {},
   "outputs": [
    {
     "data": {
      "text/plain": [
       "'(518.5 \\\\pm 4.4) \\\\cdot 10^{-10}'"
      ]
     },
     "execution_count": 24,
     "metadata": {},
     "output_type": "execute_result"
    }
   ],
   "source": [
    "printMeaningful(k, sigma_k)"
   ]
  },
  {
   "cell_type": "code",
   "execution_count": null,
   "metadata": {},
   "outputs": [
    {
     "data": {
      "text/plain": [
       "0.008398206779422287"
      ]
     },
     "execution_count": 25,
     "metadata": {},
     "output_type": "execute_result"
    }
   ],
   "source": [
    "sigma_k/k"
   ]
  },
  {
   "cell_type": "code",
   "execution_count": null,
   "metadata": {},
   "outputs": [],
   "source": [
    "L = 1 / k\n",
    "sigma_L = L * sigma_k/k"
   ]
  },
  {
   "cell_type": "code",
   "execution_count": null,
   "metadata": {},
   "outputs": [
    {
     "data": {
      "text/plain": [
       "'(192.9 \\\\pm 1.6) \\\\cdot 10^{5}'"
      ]
     },
     "execution_count": 27,
     "metadata": {},
     "output_type": "execute_result"
    }
   ],
   "source": [
    "printMeaningful(L, sigma_L)"
   ]
  },
  {
   "cell_type": "markdown",
   "metadata": {},
   "source": [
    "graphics"
   ]
  },
  {
   "cell_type": "code",
   "execution_count": null,
   "metadata": {},
   "outputs": [
    {
     "data": {
      "image/png": "[encoded data removed]",
      "text/plain": [
       "<Figure size 640x480 with 1 Axes>"
      ]
     },
     "metadata": {},
     "output_type": "display_data"
    }
   ],
   "source": [
    "plt.plot((0, 40), (0, k*4000000))\n",
    "plt.errorbar(x/100000, y, fmt=\"o\")\n",
    "plt.legend([\"Аппроксимация\", \"Данные\"])\n",
    "plt.xlabel(\"Момент силы тяжести $%s$, $%s$\"%(\"M \\\\cdot 10^{-5}\", \"\\\\frac{г \\\\cdot см^2}{с^2}\"))\n",
    "plt.ylabel(\"Угловая скорость прецессии $%s$, $%s$\"%(\"\\\\Omega\", \"\\\\frac{рад}{с}\"))\n",
    "plt.grid()"
   ]
  },
  {
   "cell_type": "markdown",
   "metadata": {},
   "source": [
    "Inputs"
   ]
  },
  {
   "cell_type": "code",
   "execution_count": null,
   "metadata": {},
   "outputs": [
    {
     "name": "stdout",
     "output_type": "stream",
     "text": [
      "cylinder\n",
      "\n",
      "rotor\n",
      "\n"
     ]
    }
   ],
   "source": [
    "cyl_amounts = []\n",
    "cyl_times = []\n",
    "rot_amounts = []\n",
    "rot_times = []\n",
    "with open(\"measurements_2.txt\", \"r\") as f:\n",
    "    print(f.readline())\n",
    "    for _ in range(4):\n",
    "        temp = f.readline().strip().split()\n",
    "        cyl_amounts.append(float(temp[0]))\n",
    "        cyl_times.append(float(temp[1]))\n",
    "    print(f.readline())\n",
    "    for _ in range(4):\n",
    "        temp = f.readline().strip().split()\n",
    "        rot_amounts.append(float(temp[0]))\n",
    "        rot_times.append(float(temp[1]))\n",
    "cyl_amounts = np.array(cyl_amounts)\n",
    "cyl_times = np.array(cyl_times)\n",
    "rot_amounts = np.array(rot_amounts)\n",
    "rot_times = np.array(rot_times)"
   ]
  },
  {
   "cell_type": "code",
   "execution_count": null,
   "metadata": {},
   "outputs": [
    {
     "name": "stdout",
     "output_type": "stream",
     "text": [
      "Cylinder mass diameter height\n",
      "\n"
     ]
    }
   ],
   "source": [
    "with open(\"constants.txt\", \"r\") as f:\n",
    "    print(f.readline())\n",
    "    temp = f.readline().strip().split()\n",
    "    cyl_mass = float(temp[0])\n",
    "    cyl_diam = float(temp[1])"
   ]
  },
  {
   "cell_type": "code",
   "execution_count": null,
   "metadata": {},
   "outputs": [],
   "source": [
    "instrum_diam = 0.01"
   ]
  },
  {
   "cell_type": "markdown",
   "metadata": {},
   "source": [
    "Permutations"
   ]
  },
  {
   "cell_type": "code",
   "execution_count": null,
   "metadata": {},
   "outputs": [
    {
     "data": {
      "text/plain": [
       "'(32000.0 \\\\pm 5.0) \\\\cdot 10^{-4}'"
      ]
     },
     "execution_count": 32,
     "metadata": {},
     "output_type": "execute_result"
    }
   ],
   "source": [
    "mean_rot_period = np.mean(rot_times/rot_amounts)\n",
    "random_rot_period = ((1/(rot_times.size * (rot_times.size - 1))) * np.sum((rot_times/rot_amounts - mean_rot_period)**2))**0.5\n",
    "instrum_rot_period = mean_rot_period * instrum_time/np.mean(rot_times)\n",
    "sigma_rot_period = (random_rot_period**2 + instrum_rot_period**2)**0.5\n",
    "printMeaningful(mean_rot_period, sigma_rot_period)"
   ]
  },
  {
   "cell_type": "code",
   "execution_count": null,
   "metadata": {},
   "outputs": [
    {
     "data": {
      "text/plain": [
       "'(40666.7 \\\\pm 6.7) \\\\cdot 10^{-4}'"
      ]
     },
     "execution_count": 33,
     "metadata": {},
     "output_type": "execute_result"
    }
   ],
   "source": [
    "mean_cyl_period = np.mean(cyl_times/cyl_amounts)\n",
    "random_cyl_period = ((1/(cyl_times.size * (cyl_times.size - 1))) * np.sum((cyl_times/cyl_amounts - mean_cyl_period)**2))**0.5\n",
    "instrum_cyl_period = mean_cyl_period * instrum_time/np.mean(cyl_times)\n",
    "sigma_cyl_period = (random_cyl_period**2 + instrum_cyl_period**2)**0.5\n",
    "printMeaningful(mean_cyl_period, sigma_cyl_period)"
   ]
  },
  {
   "cell_type": "code",
   "execution_count": null,
   "metadata": {},
   "outputs": [],
   "source": [
    "I = (cyl_mass * cyl_diam**2 * mean_rot_period**2)/(8 * mean_cyl_period**2)\n",
    "sigma_I = I * ((instrum_mass/cyl_mass)**2 + 4 * (instrum_diam/cyl_diam)**2 + 4 * (sigma_rot_period/mean_rot_period)**2 + 4 * (sigma_cyl_period/mean_cyl_period)**2)**0.5"
   ]
  },
  {
   "cell_type": "code",
   "execution_count": null,
   "metadata": {},
   "outputs": [
    {
     "data": {
      "text/plain": [
       "'(749.7 \\\\pm 2.0) \\\\cdot 10^{1}'"
      ]
     },
     "execution_count": 35,
     "metadata": {},
     "output_type": "execute_result"
    }
   ],
   "source": [
    "printMeaningful(I, sigma_I)"
   ]
  },
  {
   "cell_type": "code",
   "execution_count": null,
   "metadata": {},
   "outputs": [],
   "source": [
    "omega = L/I"
   ]
  },
  {
   "cell_type": "code",
   "execution_count": null,
   "metadata": {},
   "outputs": [],
   "source": [
    "sigma_omega = omega * ((sigma_L/L)**2 + (sigma_I/I)**2)**0.5"
   ]
  },
  {
   "cell_type": "code",
   "execution_count": null,
   "metadata": {},
   "outputs": [
    {
     "data": {
      "text/plain": [
       "'(257.2 \\\\pm 2.3) \\\\cdot 10^{1}'"
      ]
     },
     "execution_count": 38,
     "metadata": {},
     "output_type": "execute_result"
    }
   ],
   "source": [
    "printMeaningful(omega, sigma_omega)"
   ]
  },
  {
   "cell_type": "code",
   "execution_count": null,
   "metadata": {},
   "outputs": [
    {
     "data": {
      "text/plain": [
       "'(409.4 \\\\pm 3.6) \\\\cdot 10^{0}'"
      ]
     },
     "execution_count": 39,
     "metadata": {},
     "output_type": "execute_result"
    }
   ],
   "source": [
    "printMeaningful(omega/(2*np.pi), sigma_omega/(2*np.pi))"
   ]
  },
  {
   "cell_type": "markdown",
   "metadata": {},
   "source": [
    "Friction"
   ]
  },
  {
   "cell_type": "code",
   "execution_count": null,
   "metadata": {},
   "outputs": [],
   "source": [
    "omega_frict = mean_delta_hs / (l * mean_times)\n",
    "mean_omega_frict = np.mean(omega_frict)\n",
    "instrum_omega_frict = np.mean(omega_frict) * ((instrum_delta_h/np.mean(mean_delta_hs))**2 + (sigma_l/l)**2 + (instrum_time/np.mean(mean_times))**2)**0.5\n",
    "random_omega_frict = ((1 / (omega_frict.size * (omega_frict.size - 1))) * np.sum((omega_frict - mean_omega_frict)**2))**0.5\n",
    "sigma_omega_frict = (instrum_omega_frict**2 + random_omega_frict**2)**0.5\n"
   ]
  },
  {
   "cell_type": "code",
   "execution_count": null,
   "metadata": {},
   "outputs": [
    {
     "data": {
      "text/plain": [
       "'(131.3 \\\\pm 9.4) \\\\cdot 10^{-5}'"
      ]
     },
     "execution_count": 41,
     "metadata": {},
     "output_type": "execute_result"
    }
   ],
   "source": [
    "printMeaningful(mean_omega_frict, sigma_omega_frict)"
   ]
  },
  {
   "cell_type": "code",
   "execution_count": null,
   "metadata": {},
   "outputs": [],
   "source": [
    "M_frict = L * mean_omega_frict\n",
    "sigma_M_frict = M_frict * ((sigma_L/L)**2 + (sigma_omega_frict/np.mean(omega_frict))**2)**0.5"
   ]
  },
  {
   "cell_type": "code",
   "execution_count": null,
   "metadata": {},
   "outputs": [
    {
     "data": {
      "text/plain": [
       "'(25.3 \\\\pm 1.8) \\\\cdot 10^{3}'"
      ]
     },
     "execution_count": 43,
     "metadata": {},
     "output_type": "execute_result"
    }
   ],
   "source": [
    "printMeaningful(M_frict, sigma_M_frict)"
   ]
  },
  {
   "cell_type": "code",
   "execution_count": null,
   "metadata": {},
   "outputs": [
    {
     "name": "stdout",
     "output_type": "stream",
     "text": [
      "\t\t\\hline\n",
      "\t\t1&$60.6$&$1$&$169.0$&$13.0$&$10.3$\\\\\n",
      "\t\t\\hline\n",
      "\t\t2&$60.6$&$1$&$170.0$&$13.5$&$10.8$\\\\\n",
      "\t\t\\hline\n",
      "\t\t3&$60.6$&$1$&$171.0$&$13.5$&$10.9$\\\\\n",
      "\t\t\\hline\n",
      "\t\t4&$60.6$&$1$&$171.0$&$13.5$&$10.7$\\\\\n",
      "\t\t\\hline\n",
      "\t\t5&$334.0$&$3$&$92.0$&$13.4$&$11.9$\\\\\n",
      "\t\t\\hline\n",
      "\t\t6&$334.0$&$3$&$92.0$&$13.6$&$12.1$\\\\\n",
      "\t\t\\hline\n",
      "\t\t7&$334.0$&$3$&$92.0$&$13.5$&$12.0$\\\\\n",
      "\t\t\\hline\n",
      "\t\t8&$334.0$&$3$&$93.0$&$13.5$&$12.0$\\\\\n",
      "\t\t\\hline\n",
      "\t\t9&$334.0$&$3$&$92.0$&$13.3$&$11.8$\\\\\n",
      "\t\t\\hline\n",
      "\t\t10&$269.4$&$4$&$153.0$&$13.2$&$10.9$\\\\\n",
      "\t\t\\hline\n",
      "\t\t11&$269.4$&$4$&$153.0$&$13.3$&$10.9$\\\\\n",
      "\t\t\\hline\n",
      "\t\t12&$213.4$&$2$&$96.0$&$13.4$&$11.9$\\\\\n",
      "\t\t\\hline\n",
      "\t\t13&$213.4$&$2$&$97.0$&$13.4$&$11.9$\\\\\n",
      "\t\t\\hline\n",
      "\t\t14&$173.0$&$2$&$119.0$&$13.5$&$11.6$\\\\\n",
      "\t\t\\hline\n",
      "\t\t15&$173.0$&$2$&$119.0$&$13.1$&$11.3$\\\\\n",
      "\t\t\\hline\n",
      "\t\t16&$141.6$&$2$&$146.0$&$13.5$&$11.3$\\\\\n",
      "\t\t\\hline\n",
      "\t\t17&$141.6$&$2$&$146.0$&$13.5$&$11.3$\\\\\n",
      "\t\t\\hline\n",
      "\t\t18&$116.0$&$2$&$178.0$&$13.4$&$10.8$\\\\\n",
      "\t\t\\hline\n",
      "\t\t19&$116.0$&$2$&$178.0$&$13.3$&$10.9$\\\\\n",
      "\t\t\\hline\n",
      "\t\t20&$92.6$&$1$&$112.0$&$13.3$&$11.3$\\\\\n",
      "\t\t\\hline\n",
      "\t\t21&$92.6$&$1$&$112.0$&$13.5$&$11.5$\\\\\n",
      "\t\t\\hline\n",
      "\t\t22&$76.5$&$1$&$135.0$&$13.1$&$10.8$\\\\\n",
      "\t\t\\hline\n",
      "\t\t23&$76.5$&$1$&$135.0$&$13.0$&$10.9$\\\\\n"
     ]
    }
   ],
   "source": [
    "for i in range(len(masses)):\n",
    "    print(\"\\t\\t\\hline\\n\\t\\t\", end = \"\")\n",
    "    print(\"{}&${}$&${:.0f}$&${}$&${}$&${}$\\\\\\\\\".format(i+1, masses[i], amount[i], time[i], h1[i], h2[i]))"
   ]
  },
  {
   "cell_type": "code",
   "execution_count": null,
   "metadata": {},
   "outputs": [
    {
     "name": "stdout",
     "output_type": "stream",
     "text": [
      "\t\t\\hline\n",
      "\t\t1&$60.6$&$1$&$170.25$&$2.7$\\\\\n",
      "\t\t\\hline\n",
      "\t\t2&$334.0$&$3$&$92.2$&$1.5$\\\\\n",
      "\t\t\\hline\n",
      "\t\t3&$269.4$&$4$&$153.0$&$2.3$\\\\\n",
      "\t\t\\hline\n",
      "\t\t4&$213.4$&$2$&$96.5$&$1.5$\\\\\n",
      "\t\t\\hline\n",
      "\t\t5&$173.0$&$2$&$119.0$&$1.8$\\\\\n",
      "\t\t\\hline\n",
      "\t\t6&$141.6$&$2$&$146.0$&$2.2$\\\\\n",
      "\t\t\\hline\n",
      "\t\t7&$116.0$&$2$&$178.0$&$2.5$\\\\\n",
      "\t\t\\hline\n",
      "\t\t8&$92.6$&$1$&$112.0$&$2.0$\\\\\n",
      "\t\t\\hline\n",
      "\t\t9&$76.5$&$1$&$135.0$&$2.2$\\\\\n"
     ]
    }
   ],
   "source": [
    "for i in range(mean_masses.size):\n",
    "    print(\"\\t\\t\\hline\\n\\t\\t\", end = \"\")\n",
    "    print(\"{}&${}$&${:.0f}$&${}$&${:.1f}$\\\\\\\\\".format(i+1, mean_masses[i], mean_amounts[i], mean_times[i], mean_delta_hs[i]))"
   ]
  },
  {
   "cell_type": "code",
   "execution_count": null,
   "metadata": {},
   "outputs": [
    {
     "name": "stdout",
     "output_type": "stream",
     "text": [
      "\t\t\t\t\\hline\n",
      "\t\t\t\t$15$&$61$&$20$&$64$\\\\\n",
      "\t\t\t\t\\hline\n",
      "\t\t\t\t$15$&$61$&$20$&$64$\\\\\n",
      "\t\t\t\t\\hline\n",
      "\t\t\t\t$15$&$61$&$20$&$64$\\\\\n",
      "\t\t\t\t\\hline\n",
      "\t\t\t\t$15$&$61$&$20$&$64$\\\\\n"
     ]
    }
   ],
   "source": [
    "for i in range(cyl_amounts.size):\n",
    "    print(\"\\t\\t\\t\\t\\hline\\n\\t\\t\\t\\t\", end = \"\")\n",
    "    print(\"${:.0f}$&${:.0f}$&${:.0f}$&${:.0f}$\\\\\\\\\".format(cyl_amounts[i], cyl_times[i], rot_amounts[i], rot_times[i]))"
   ]
  },
  {
   "cell_type": "code",
   "execution_count": null,
   "metadata": {},
   "outputs": [
    {
     "data": {
      "text/plain": [
       "0.008798625206954099"
      ]
     },
     "execution_count": 57,
     "metadata": {},
     "output_type": "execute_result"
    }
   ],
   "source": [
    "sigma_omega/omega"
   ]
  },
  {
   "cell_type": "code",
   "execution_count": null,
   "metadata": {},
   "outputs": [
    {
     "data": {
      "text/plain": [
       "12582.313792428862"
      ]
     },
     "execution_count": 59,
     "metadata": {},
     "output_type": "execute_result"
    }
   ],
   "source": [
    "omega/np.max(mean_omegas)"
   ]
  },
  {
   "cell_type": "code",
   "execution_count": null,
   "metadata": {},
   "outputs": [
    {
     "data": {
      "text/plain": [
       "0.0721517169154568"
      ]
     },
     "execution_count": 58,
     "metadata": {},
     "output_type": "execute_result"
    }
   ],
   "source": [
    "sigma_M_frict / M_frict"
   ]
  }
 ],
 "metadata": {
  "kernelspec": {
   "display_name": "Python 3.8.8 64-bit",
   "language": "python",
   "name": "python3"
  },
  "language_info": {
   "codemirror_mode": {
    "name": "ipython",
    "version": 3
   },
   "file_extension": ".py",
   "mimetype": "text/x-python",
   "name": "python",
   "nbconvert_exporter": "python",
   "pygments_lexer": "ipython3",
   "version": "3.8.8"
  },
  "orig_nbformat": 4,
  "vscode": {
   "interpreter": {
    "hash": "a42579e49751352c260acb8a961a7e5a6467153a056d5503dc065206adeac815"
   }
  }
 },
 "nbformat": 4,
 "nbformat_minor": 2
}
