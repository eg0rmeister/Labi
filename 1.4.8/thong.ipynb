{
 "cells": [
  {
   "cell_type": "markdown",
   "metadata": {},
   "source": [
    "# Imports"
   ]
  },
  {
   "cell_type": "code",
   "execution_count": 75,
   "metadata": {},
   "outputs": [],
   "source": [
    "import matplotlib.pyplot as plt\n",
    "import numpy as np"
   ]
  },
  {
   "cell_type": "code",
   "execution_count": 76,
   "metadata": {},
   "outputs": [],
   "source": [
    "material = \"steel\""
   ]
  },
  {
   "cell_type": "code",
   "execution_count": 77,
   "metadata": {},
   "outputs": [],
   "source": [
    "def printMeaningful(value, sigma=0.0):\n",
    "    tennage = 0\n",
    "    if sigma == 0:\n",
    "        sigma = value\n",
    "    while sigma < 1:\n",
    "        tennage -= 1\n",
    "        sigma *= 10\n",
    "        value *= 10\n",
    "    while sigma > 10:\n",
    "        tennage += 1\n",
    "        sigma /= 10\n",
    "        value /= 10\n",
    "    return \"({:.1f} \\\\pm {:.1f}) \\\\cdot 10^{}{}{}\".format(value, sigma, \"{\", tennage, \"}\")"
   ]
  },
  {
   "cell_type": "code",
   "execution_count": 78,
   "metadata": {},
   "outputs": [
    {
     "data": {
      "text/plain": [
       "'(2.0 \\\\pm 2.0) \\\\cdot 10^{-1}'"
      ]
     },
     "execution_count": 78,
     "metadata": {},
     "output_type": "execute_result"
    }
   ],
   "source": [
    "printMeaningful(0.2)"
   ]
  },
  {
   "cell_type": "markdown",
   "metadata": {},
   "source": [
    "# Inputs"
   ]
  },
  {
   "cell_type": "markdown",
   "metadata": {},
   "source": [
    "## frequency"
   ]
  },
  {
   "cell_type": "markdown",
   "metadata": {},
   "source": [
    "### Inputs"
   ]
  },
  {
   "cell_type": "code",
   "execution_count": 79,
   "metadata": {},
   "outputs": [
    {
     "name": "stdout",
     "output_type": "stream",
     "text": [
      "instrum_f, ÐºÐ“Ñ†\n",
      "\n",
      "n\tfÐ¸Ð·Ð¼, ÐºÐ“Ñ†\n",
      "\n"
     ]
    }
   ],
   "source": [
    "N = []\n",
    "f = []\n",
    "\n",
    "with open(f\"frequencies/{material}\", \"r\") as file:\n",
    "    print(file.readline())\n",
    "    instrum_f = float(file.readline().strip())\n",
    "    print(file.readline())\n",
    "    for line in file:\n",
    "        temp = line.strip().split()\n",
    "        N.append(int(temp[0]))\n",
    "        f.append(float(temp[1]))\n",
    "    N = np.array(N)\n",
    "    f = np.array(f)"
   ]
  },
  {
   "cell_type": "code",
   "execution_count": 80,
   "metadata": {},
   "outputs": [
    {
     "data": {
      "text/plain": [
       "array([1, 2, 3, 4, 5, 6, 7, 8, 9])"
      ]
     },
     "execution_count": 80,
     "metadata": {},
     "output_type": "execute_result"
    }
   ],
   "source": [
    "N"
   ]
  },
  {
   "cell_type": "code",
   "execution_count": 81,
   "metadata": {},
   "outputs": [
    {
     "data": {
      "text/plain": [
       "array([ 4.1243,  8.2557, 12.3795, 16.5077, 20.628 , 24.7507, 28.8517,\n",
       "       32.963 , 37.0553])"
      ]
     },
     "execution_count": 81,
     "metadata": {},
     "output_type": "execute_result"
    }
   ],
   "source": [
    "f"
   ]
  },
  {
   "cell_type": "markdown",
   "metadata": {},
   "source": [
    "### Table"
   ]
  },
  {
   "cell_type": "code",
   "execution_count": 82,
   "metadata": {},
   "outputs": [
    {
     "name": "stdout",
     "output_type": "stream",
     "text": [
      "\t\t\\hline\n",
      "\t\t1&4.1243\\\\\n",
      "\t\t\\hline\n",
      "\t\t2&8.2557\\\\\n",
      "\t\t\\hline\n",
      "\t\t3&12.3795\\\\\n",
      "\t\t\\hline\n",
      "\t\t4&16.5077\\\\\n",
      "\t\t\\hline\n",
      "\t\t5&20.628\\\\\n",
      "\t\t\\hline\n",
      "\t\t6&24.7507\\\\\n",
      "\t\t\\hline\n",
      "\t\t7&28.8517\\\\\n",
      "\t\t\\hline\n",
      "\t\t8&32.963\\\\\n",
      "\t\t\\hline\n",
      "\t\t9&37.0553\\\\\n"
     ]
    }
   ],
   "source": [
    "for i in range(len(N)):\n",
    "    print(\"\\t\\t\\hline\\n\\t\\t\", end = \"\")\n",
    "    print(\"{}&{}\\\\\\\\\".format(N[i], f[i]))"
   ]
  },
  {
   "cell_type": "markdown",
   "metadata": {},
   "source": [
    "### Units"
   ]
  },
  {
   "cell_type": "code",
   "execution_count": 83,
   "metadata": {},
   "outputs": [],
   "source": [
    "f *= 1000 # kHz -> Hz\n",
    "instrum_f *= 1000 # kHz -> Hz"
   ]
  },
  {
   "cell_type": "code",
   "execution_count": 84,
   "metadata": {},
   "outputs": [
    {
     "data": {
      "text/plain": [
       "(array([ 4124.3,  8255.7, 12379.5, 16507.7, 20628. , 24750.7, 28851.7,\n",
       "        32963. , 37055.3]),\n",
       " 0.1)"
      ]
     },
     "execution_count": 84,
     "metadata": {},
     "output_type": "execute_result"
    }
   ],
   "source": [
    "f, instrum_f"
   ]
  },
  {
   "cell_type": "markdown",
   "metadata": {},
   "source": [
    "## Sample"
   ]
  },
  {
   "cell_type": "markdown",
   "metadata": {},
   "source": [
    "### Input"
   ]
  },
  {
   "cell_type": "code",
   "execution_count": 85,
   "metadata": {},
   "outputs": [
    {
     "name": "stdout",
     "output_type": "stream",
     "text": [
      "L sigma_L\n",
      "\n",
      "m sigma_m\n",
      "\n",
      "sigma_d\n",
      "\n",
      "d\n",
      "\n"
     ]
    }
   ],
   "source": [
    "d = []\n",
    "with open(f\"samples/{material}\", \"r\") as file:\n",
    "    print(file.readline())\n",
    "    L, sigma_L = (float(i) for i in file.readline().strip().split())\n",
    "    print(file.readline())\n",
    "    m, sigma_m = (float(i) for i in file.readline().strip().split())\n",
    "    print(file.readline())\n",
    "    instrum_d = (float(file.readline().strip()))\n",
    "    print(file.readline())\n",
    "    for line in file:\n",
    "        d.append(float(line.strip()))\n",
    "    d = np.array(d)"
   ]
  },
  {
   "cell_type": "code",
   "execution_count": 86,
   "metadata": {},
   "outputs": [
    {
     "data": {
      "text/plain": [
       "array([12.03, 12.02, 12.11, 12.24, 12.26])"
      ]
     },
     "execution_count": 86,
     "metadata": {},
     "output_type": "execute_result"
    }
   ],
   "source": [
    "d"
   ]
  },
  {
   "cell_type": "markdown",
   "metadata": {},
   "source": [
    "### Table"
   ]
  },
  {
   "cell_type": "markdown",
   "metadata": {},
   "source": [
    "### Units"
   ]
  },
  {
   "cell_type": "code",
   "execution_count": 87,
   "metadata": {},
   "outputs": [],
   "source": [
    "d /= 1000 # mm -> m \n",
    "instrum_d /= 1000 # mm -> m \n",
    "L /= 1000 # mm -> m \n",
    "sigma_L /= 1000 # mm -> m\n",
    "m /= 1000 # g -> kg\n",
    "sigma_m /= 1000 # g -> kg\n"
   ]
  },
  {
   "cell_type": "code",
   "execution_count": 88,
   "metadata": {},
   "outputs": [
    {
     "data": {
      "text/plain": [
       "'(312.3 \\\\pm 1.0) \\\\cdot 10^{-4}'"
      ]
     },
     "execution_count": 88,
     "metadata": {},
     "output_type": "execute_result"
    }
   ],
   "source": [
    "printMeaningful(m, sigma_m)"
   ]
  },
  {
   "cell_type": "markdown",
   "metadata": {},
   "source": [
    "## Bar"
   ]
  },
  {
   "cell_type": "markdown",
   "metadata": {},
   "source": [
    "### Input"
   ]
  },
  {
   "cell_type": "markdown",
   "metadata": {},
   "source": [
    "### Table"
   ]
  },
  {
   "cell_type": "markdown",
   "metadata": {},
   "source": [
    "### Units"
   ]
  },
  {
   "cell_type": "markdown",
   "metadata": {},
   "source": [
    "# Speed of sound"
   ]
  },
  {
   "cell_type": "markdown",
   "metadata": {},
   "source": [
    "Permutations"
   ]
  },
  {
   "cell_type": "code",
   "execution_count": null,
   "metadata": {},
   "outputs": [],
   "source": []
  },
  {
   "attachments": {},
   "cell_type": "markdown",
   "metadata": {},
   "source": [
    "$y = f\\\\$\n",
    "$x = n\\\\$\n",
    "$y = kx + b\\\\$"
   ]
  },
  {
   "cell_type": "code",
   "execution_count": 89,
   "metadata": {},
   "outputs": [],
   "source": [
    "y = f\n",
    "x = N\n",
    "\n",
    "mean_xy = np.mean(x * y)\n",
    "mean_x = np.mean(x)\n",
    "mean_x2 = np.mean(x**2)\n",
    "mean_y = np.mean(y)\n",
    "mean_y2 = np.mean(y**2)"
   ]
  },
  {
   "cell_type": "code",
   "execution_count": 90,
   "metadata": {},
   "outputs": [
    {
     "data": {
      "text/plain": [
       "4117.221666666671"
      ]
     },
     "execution_count": 90,
     "metadata": {},
     "output_type": "execute_result"
    }
   ],
   "source": [
    "k = (mean_xy - mean_x*mean_y)/(mean_x2 - mean_x**2)\n",
    "k"
   ]
  },
  {
   "cell_type": "code",
   "execution_count": 91,
   "metadata": {},
   "outputs": [
    {
     "data": {
      "text/plain": [
       "26.769444444416877"
      ]
     },
     "execution_count": 91,
     "metadata": {},
     "output_type": "execute_result"
    }
   ],
   "source": [
    "b = mean_y - k * mean_x\n",
    "b"
   ]
  },
  {
   "cell_type": "markdown",
   "metadata": {},
   "source": [
    "$k = \\frac{2\\pi N}{tm}$"
   ]
  },
  {
   "cell_type": "markdown",
   "metadata": {},
   "source": [
    "graphics"
   ]
  },
  {
   "cell_type": "code",
   "execution_count": 92,
   "metadata": {},
   "outputs": [],
   "source": [
    "# xykb = {\"copper\": None, \"steel\": None, \"dura\": None}"
   ]
  },
  {
   "cell_type": "code",
   "execution_count": 93,
   "metadata": {},
   "outputs": [],
   "source": [
    "if material in xykb:\n",
    "  xykb[material] = (x, y, k, b)"
   ]
  },
  {
   "cell_type": "code",
   "execution_count": 94,
   "metadata": {},
   "outputs": [
    {
     "data": {
      "text/plain": [
       "{'copper': (array([1, 2, 3, 4, 5, 6]),\n",
       "  array([ 3158.8,  6314.6,  9485.3, 12649.7, 15804.4, 18971.1]),\n",
       "  3162.722857142859,\n",
       "  -5.546666666674355),\n",
       " 'steel': (array([1, 2, 3, 4, 5, 6, 7, 8, 9]),\n",
       "  array([ 4124.3,  8255.7, 12379.5, 16507.7, 20628. , 24750.7, 28851.7,\n",
       "         32963. , 37055.3]),\n",
       "  4117.221666666671,\n",
       "  26.769444444416877),\n",
       " 'dura': (array([1, 2, 3, 4, 5, 6, 7, 8]),\n",
       "  array([ 4253.4,  8514.1, 12759.3, 17025.9, 21262.5, 25515.5, 29745.8,\n",
       "         33976. ]),\n",
       "  4246.689285714285,\n",
       "  21.460714285720314)}"
      ]
     },
     "execution_count": 94,
     "metadata": {},
     "output_type": "execute_result"
    }
   ],
   "source": [
    "xykb"
   ]
  },
  {
   "cell_type": "code",
   "execution_count": 95,
   "metadata": {},
   "outputs": [
    {
     "data": {
      "image/png": "[encoded data removed]",
      "text/plain": [
       "<Figure size 640x480 with 1 Axes>"
      ]
     },
     "metadata": {},
     "output_type": "display_data"
    }
   ],
   "source": [
    "plt.plot((0, 9), (0, k*9 + b), \"b\")\n",
    "plt.plot(x, y, \"bo\")\n",
    "plt.legend([\"Аппроксимация\", \"Данные\"])\n",
    "plt.xlabel(\"Номер гармоники $%s$\"%(\"n\"))\n",
    "plt.ylabel(\"Частота колебаний $%s$, $%s$\"%(\"f\", \"Гц\"))\n",
    "plt.grid()"
   ]
  },
  {
   "cell_type": "code",
   "execution_count": 100,
   "metadata": {},
   "outputs": [
    {
     "name": "stderr",
     "output_type": "stream",
     "text": [
      "C:\\Users\\egorm\\AppData\\Local\\Temp\\ipykernel_17908\\2245915946.py:10: UserWarning: The label '_' of <matplotlib.lines.Line2D object at 0x00000196257FE290> starts with '_'. It is thus excluded from the legend.\n",
      "  plt.legend([\"Дюрасталь\", \"_\", \"Данные\"])\n"
     ]
    },
    {
     "data": {
      "image/png": "[encoded data removed]",
      "text/plain": [
       "<Figure size 640x480 with 1 Axes>"
      ]
     },
     "metadata": {},
     "output_type": "display_data"
    }
   ],
   "source": [
    "x, y, k, b = xykb[\"dura\"]\n",
    "plt.plot((0, 9), (0, k*9 + b), \"b\")\n",
    "plt.plot(x, y, \"bo\")\n",
    "x, y, k, b = xykb[\"copper\"]\n",
    "plt.plot((0, 9), (0, k*9 + b), \"r\")\n",
    "plt.plot(x, y, \"ro\")\n",
    "x, y, k, b = xykb[\"steel\"]\n",
    "plt.plot((0, 9), (0, k*9 + b), \"g\")\n",
    "plt.plot(x, y, \"go\")\n",
    "plt.legend([\"Дюрасталь\", \"_\", \"Данные\"])\n",
    "plt.xlabel(\"Номер гармоники $%s$\"%(\"n\"))\n",
    "plt.ylabel(\"Частота колебаний $%s$, $%s$\"%(\"f\", \"Гц\"))\n",
    "plt.grid()"
   ]
  }
 ],
 "metadata": {
  "kernelspec": {
   "display_name": "Python 3",
   "language": "python",
   "name": "python3"
  },
  "language_info": {
   "codemirror_mode": {
    "name": "ipython",
    "version": 3
   },
   "file_extension": ".py",
   "mimetype": "text/x-python",
   "name": "python",
   "nbconvert_exporter": "python",
   "pygments_lexer": "ipython3",
   "version": "3.10.9"
  },
  "orig_nbformat": 4,
  "vscode": {
   "interpreter": {
    "hash": "baa41aba8042dc41a7a72a7c371257b8a41a295d25020d6603a1b406950de565"
   }
  }
 },
 "nbformat": 4,
 "nbformat_minor": 2
}
