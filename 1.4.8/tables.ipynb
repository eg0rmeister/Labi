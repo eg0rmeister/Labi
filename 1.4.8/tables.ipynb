{
 "cells": [
  {
   "cell_type": "code",
   "execution_count": 18,
   "metadata": {},
   "outputs": [],
   "source": [
    "import matplotlib.pyplot as plt\n",
    "import numpy as np"
   ]
  },
  {
   "cell_type": "code",
   "execution_count": 19,
   "metadata": {},
   "outputs": [],
   "source": [
    "def printMeaningful(value, sigma=0.0):\n",
    "    tennage = 0\n",
    "    if sigma == 0:\n",
    "        sigma = value\n",
    "    while sigma < 1:\n",
    "        tennage -= 1\n",
    "        sigma *= 10\n",
    "        value *= 10\n",
    "    while sigma > 10:\n",
    "        tennage += 1\n",
    "        sigma /= 10\n",
    "        value /= 10\n",
    "    print( \"({:.1f} \\pm {:.1f}) \\cdot 10^{}{}{}\".format(value, sigma, \"{\", tennage, \"}\"))"
   ]
  },
  {
   "cell_type": "code",
   "execution_count": 20,
   "metadata": {},
   "outputs": [],
   "source": [
    "class obj:\n",
    "  pass"
   ]
  },
  {
   "cell_type": "code",
   "execution_count": 21,
   "metadata": {},
   "outputs": [],
   "source": [
    "materials = {\"copper\":obj(), \"steel\":obj(), \"dura\":obj()}"
   ]
  },
  {
   "cell_type": "markdown",
   "metadata": {},
   "source": [
    "# Samples"
   ]
  },
  {
   "cell_type": "code",
   "execution_count": 22,
   "metadata": {},
   "outputs": [
    {
     "name": "stdout",
     "output_type": "stream",
     "text": [
      "copper\n",
      "L sigma_L\n",
      "\n",
      "m sigma_m\n",
      "\n",
      "sigma_d\n",
      "\n",
      "d\n",
      "\n",
      "[12.11 12.1  12.11 12.11 12.11]\n",
      "steel\n",
      "L sigma_L\n",
      "\n",
      "m sigma_m\n",
      "\n",
      "sigma_d\n",
      "\n",
      "d\n",
      "\n",
      "[12.03 12.02 12.11 12.24 12.26]\n",
      "dura\n",
      "L sigma_L\n",
      "\n",
      "m sigma_m\n",
      "\n",
      "sigma_d\n",
      "\n",
      "d\n",
      "\n",
      "[11.74 11.75 11.91 11.96 11.96]\n"
     ]
    }
   ],
   "source": [
    "for i in materials:\n",
    "    print(i)\n",
    "    materials[i].d = []\n",
    "    with open(f\"samples/{i}\", \"r\") as file:\n",
    "        print(file.readline())\n",
    "        materials[i].L, materials[i].sigma_L = (\n",
    "            float(i) for i in file.readline().strip().split())\n",
    "        print(file.readline())\n",
    "        materials[i].m, materials[i].sigma_m = (\n",
    "            float(i) for i in file.readline().strip().split())\n",
    "        print(file.readline())\n",
    "        materials[i].instrum_d = (float(file.readline().strip()))\n",
    "        print(file.readline())\n",
    "        for line in file:\n",
    "            materials[i].d.append(float(line.strip()))\n",
    "        materials[i].d = np.array(materials[i].d)\n",
    "    print(materials[i].d)"
   ]
  },
  {
   "cell_type": "code",
   "execution_count": 23,
   "metadata": {},
   "outputs": [
    {
     "data": {
      "text/plain": [
       "array([12.03, 12.02, 12.11, 12.24, 12.26])"
      ]
     },
     "execution_count": 23,
     "metadata": {},
     "output_type": "execute_result"
    }
   ],
   "source": [
    "materials[\"steel\"].d"
   ]
  },
  {
   "cell_type": "code",
   "execution_count": 24,
   "metadata": {},
   "outputs": [
    {
     "name": "stdout",
     "output_type": "stream",
     "text": [
      "\t\t\t\t\\hline\n",
      "\t\t\t\t12.11&12.03&11.74\\\\\n",
      "\t\t\t\t\\hline\n",
      "\t\t\t\t12.1&12.02&11.75\\\\\n",
      "\t\t\t\t\\hline\n",
      "\t\t\t\t12.11&12.11&11.91\\\\\n",
      "\t\t\t\t\\hline\n",
      "\t\t\t\t12.11&12.24&11.96\\\\\n",
      "\t\t\t\t\\hline\n",
      "\t\t\t\t12.11&12.26&11.96\\\\\n"
     ]
    }
   ],
   "source": [
    "for i in range(5):\n",
    "  print(\"\\t\\t\\t\\t\\hline\\n\\t\\t\\t\\t\", end = \"\")\n",
    "  print(\"{}&{}&{}\\\\\\\\\".format(materials[\"copper\"].d[i], materials[\"steel\"].d[i], materials[\"dura\"].d[i]))"
   ]
  }
 ],
 "metadata": {
  "kernelspec": {
   "display_name": "Python 3",
   "language": "python",
   "name": "python3"
  },
  "language_info": {
   "codemirror_mode": {
    "name": "ipython",
    "version": 3
   },
   "file_extension": ".py",
   "mimetype": "text/x-python",
   "name": "python",
   "nbconvert_exporter": "python",
   "pygments_lexer": "ipython3",
   "version": "3.10.9"
  },
  "orig_nbformat": 4,
  "vscode": {
   "interpreter": {
    "hash": "baa41aba8042dc41a7a72a7c371257b8a41a295d25020d6603a1b406950de565"
   }
  }
 },
 "nbformat": 4,
 "nbformat_minor": 2
}
